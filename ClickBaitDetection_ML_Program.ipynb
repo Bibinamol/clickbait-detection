{
 "cells": [
  {
   "cell_type": "markdown",
   "id": "537f8208",
   "metadata": {},
   "source": [
    "# Bibina \n",
    "# Clickbait Detection"
   ]
  },
  {
   "cell_type": "code",
   "execution_count": 6,
   "id": "08929fad",
   "metadata": {},
   "outputs": [],
   "source": [
    "#Importing required libraries\n",
    "import pandas as pandasLibPackage"
   ]
  },
  {
   "cell_type": "code",
   "execution_count": 7,
   "id": "cf80883b",
   "metadata": {},
   "outputs": [],
   "source": [
    "# Upload the dataset\n",
    "datasetFilePath = 'clickbait_data.csv'\n",
    "inputKaggleData = pandasLibPackage.read_csv(datasetFilePath)"
   ]
  },
  {
   "cell_type": "markdown",
   "id": "ce1f95c8",
   "metadata": {},
   "source": [
    "# Data Pre-processing"
   ]
  },
  {
   "cell_type": "code",
   "execution_count": 8,
   "id": "9e5ffe09",
   "metadata": {},
   "outputs": [
    {
     "name": "stdout",
     "output_type": "stream",
     "text": [
      "Blank Data in each columns headline     0\n",
      "clickbait    0\n",
      "dtype: int64\n",
      "Duplicated Data 0\n"
     ]
    }
   ],
   "source": [
    "\n",
    "print(\"Blank Data in each columns\", inputKaggleData.isnull().sum())\n",
    "print(\"Duplicated Data\", inputKaggleData.duplicated().sum())\n"
   ]
  },
  {
   "cell_type": "code",
   "execution_count": 9,
   "id": "0d8f9159",
   "metadata": {},
   "outputs": [
    {
     "name": "stdout",
     "output_type": "stream",
     "text": [
      "<class 'pandas.core.frame.DataFrame'>\n",
      "RangeIndex: 32000 entries, 0 to 31999\n",
      "Data columns (total 2 columns):\n",
      " #   Column     Non-Null Count  Dtype \n",
      "---  ------     --------------  ----- \n",
      " 0   headline   32000 non-null  object\n",
      " 1   clickbait  32000 non-null  int64 \n",
      "dtypes: int64(1), object(1)\n",
      "memory usage: 500.1+ KB\n",
      "None\n",
      "clickbait\n",
      "0    16001\n",
      "1    15999\n",
      "Name: count, dtype: int64\n"
     ]
    }
   ],
   "source": [
    "print(inputKaggleData.info())\n",
    "print(inputKaggleData['clickbait'].value_counts())"
   ]
  },
  {
   "cell_type": "markdown",
   "id": "6466a9bf",
   "metadata": {},
   "source": [
    "# Data Analysis"
   ]
  }
 ],
 "metadata": {
  "kernelspec": {
   "display_name": "Python 3 (ipykernel)",
   "language": "python",
   "name": "python3"
  },
  "language_info": {
   "codemirror_mode": {
    "name": "ipython",
    "version": 3
   },
   "file_extension": ".py",
   "mimetype": "text/x-python",
   "name": "python",
   "nbconvert_exporter": "python",
   "pygments_lexer": "ipython3",
   "version": "3.10.9"
  }
 },
 "nbformat": 4,
 "nbformat_minor": 5
}
